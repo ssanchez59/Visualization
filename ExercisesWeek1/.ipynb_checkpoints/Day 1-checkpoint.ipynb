{
 "cells": [
  {
   "cell_type": "markdown",
   "metadata": {},
   "source": [
    "## Day 1\n",
    "### Create a function that returns a list of numbers that sum up to 1 (propose an alternative implementation than the one provided in the notebook from the lab session).\n",
    "\n",
    "Tip. Look for different ways to implement this functions. Are there Python modules that already provide such function? "
   ]
  },
  {
   "cell_type": "code",
   "execution_count": 1,
   "metadata": {},
   "outputs": [
    {
     "name": "stdout",
     "output_type": "stream",
     "text": [
      "10 numbers:  [0.44552844743246267, 0.6746103626336475, 0.7851216623898457, 0.14726467423677458, 0.8445050664515487, 0.6188384086316768, 0.6241260983753658, 0.8008332850740773, 0.3934603695543667, 0.35276920270769563]\n",
      "\n",
      "sum of numbers = 5.687057577487461\n",
      "\n",
      "Solution: [0.07834076609248906, 0.11862203845168208, 0.13805410824356593, 0.025894704287807834, 0.14849595857699238, 0.10881521774658721, 0.10974499376373545, 0.14081680625921938, 0.06918522701649828, 0.0620301795614225]\n",
      "\n",
      "Check solution: 1.0\n"
     ]
    }
   ],
   "source": [
    "import random\n",
    "import math\n",
    "\n",
    "randomNumbers = [random.random() for i in range(0,10)]\n",
    "\n",
    "print ('10 numbers: ',randomNumbers)\n",
    "print ()\n",
    "\n",
    "s = sum(randomNumbers)\n",
    "\n",
    "print('sum of numbers =', s)\n",
    "print()\n",
    "\n",
    "r = [ i/s for i in randomNumbers ]\n",
    "print ('Solution:', r)\n",
    "print()\n",
    "\n",
    "print('Check solution:', math.fsum(r))"
   ]
  },
  {
   "cell_type": "code",
   "execution_count": 2,
   "metadata": {},
   "outputs": [
    {
     "name": "stdout",
     "output_type": "stream",
     "text": [
      "[5, 5]\n",
      "[6, 4]\n",
      "[7, 3]\n",
      "[8, 2]\n",
      "[9, 1]\n"
     ]
    }
   ],
   "source": [
    "def sum_to_n(n, size, limit=None):\n",
    "    \"\"\"Produce all lists of `size` positive integers in decreasing order\n",
    "    that add up to `n`.\"\"\"\n",
    "    if size == 1:\n",
    "        yield [n]\n",
    "        return\n",
    "    if limit is None:\n",
    "        limit = n\n",
    "    start = (n + size - 1) // size\n",
    "    stop = min(limit, n - size + 1) + 1\n",
    "    for i in range(start, stop):\n",
    "        for tail in sum_to_n(n - i, size - 1, i):\n",
    "            yield [i] + tail\n",
    "            \n",
    "for partition in sum_to_n(10, 2):\n",
    "    print (partition)"
   ]
  },
  {
   "cell_type": "code",
   "execution_count": null,
   "metadata": {
    "collapsed": true
   },
   "outputs": [],
   "source": []
  }
 ],
 "metadata": {
  "kernelspec": {
   "display_name": "Python 3",
   "language": "python",
   "name": "python3"
  },
  "language_info": {
   "codemirror_mode": {
    "name": "ipython",
    "version": 3
   },
   "file_extension": ".py",
   "mimetype": "text/x-python",
   "name": "python",
   "nbconvert_exporter": "python",
   "pygments_lexer": "ipython3",
   "version": "3.6.1"
  }
 },
 "nbformat": 4,
 "nbformat_minor": 2
}
