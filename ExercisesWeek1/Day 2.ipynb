{
 "cells": [
  {
   "cell_type": "markdown",
   "metadata": {},
   "source": [
    "## Day 2\n",
    "Exploration with SALOME and SU2. Based on the tutorial, explore the effect of changing some of the parameters for the simulation or the visualization. It is up to you what to do, just explore and enjoy. Document what was your approach and the results of your exploration. (Note: Postponed until we have access to the virtual machine image.)"
   ]
  },
  {
   "cell_type": "markdown",
   "metadata": {},
   "source": [
    "I created a mesh with a surface boundary that consisted of 1500 instead of 1000 equidistantly distrubuted edges.\n",
    "I created a mesh with a farfield boundary that consisted of 300 instead of 200 equidistantly distrubuted edges.\n",
    "This meant an increase in the resolution of both boundaries."
   ]
  },
  {
   "cell_type": "markdown",
   "metadata": {},
   "source": [
    "<img src=\"imgs/Salome.png\">"
   ]
  },
  {
   "cell_type": "markdown",
   "metadata": {
    "collapsed": true
   },
   "source": [
    "<img src=\"imgs/Paraview.png\">"
   ]
  },
  {
   "cell_type": "code",
   "execution_count": null,
   "metadata": {
    "collapsed": true
   },
   "outputs": [],
   "source": []
  }
 ],
 "metadata": {
  "kernelspec": {
   "display_name": "Python 3",
   "language": "python",
   "name": "python3"
  },
  "language_info": {
   "codemirror_mode": {
    "name": "ipython",
    "version": 3
   },
   "file_extension": ".py",
   "mimetype": "text/x-python",
   "name": "python",
   "nbconvert_exporter": "python",
   "pygments_lexer": "ipython3",
   "version": "3.6.1"
  }
 },
 "nbformat": 4,
 "nbformat_minor": 2
}
